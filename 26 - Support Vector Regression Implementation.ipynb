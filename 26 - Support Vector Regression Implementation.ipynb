{
 "cells": [
  {
   "cell_type": "markdown",
   "id": "b90db6d7",
   "metadata": {},
   "source": [
    "## Support Vector Regression Implementation\n"
   ]
  },
  {
   "cell_type": "code",
   "execution_count": 3,
   "id": "5ab28743",
   "metadata": {},
   "outputs": [],
   "source": [
    "## Dataste\n",
    "import seaborn as sns\n",
    "df = sns.load_dataset('tips')"
   ]
  },
  {
   "cell_type": "code",
   "execution_count": 4,
   "id": "fc3a6ff1",
   "metadata": {},
   "outputs": [
    {
     "data": {
      "text/html": [
       "<div>\n",
       "<style scoped>\n",
       "    .dataframe tbody tr th:only-of-type {\n",
       "        vertical-align: middle;\n",
       "    }\n",
       "\n",
       "    .dataframe tbody tr th {\n",
       "        vertical-align: top;\n",
       "    }\n",
       "\n",
       "    .dataframe thead th {\n",
       "        text-align: right;\n",
       "    }\n",
       "</style>\n",
       "<table border=\"1\" class=\"dataframe\">\n",
       "  <thead>\n",
       "    <tr style=\"text-align: right;\">\n",
       "      <th></th>\n",
       "      <th>total_bill</th>\n",
       "      <th>tip</th>\n",
       "      <th>sex</th>\n",
       "      <th>smoker</th>\n",
       "      <th>day</th>\n",
       "      <th>time</th>\n",
       "      <th>size</th>\n",
       "    </tr>\n",
       "  </thead>\n",
       "  <tbody>\n",
       "    <tr>\n",
       "      <th>0</th>\n",
       "      <td>16.99</td>\n",
       "      <td>1.01</td>\n",
       "      <td>Female</td>\n",
       "      <td>No</td>\n",
       "      <td>Sun</td>\n",
       "      <td>Dinner</td>\n",
       "      <td>2</td>\n",
       "    </tr>\n",
       "    <tr>\n",
       "      <th>1</th>\n",
       "      <td>10.34</td>\n",
       "      <td>1.66</td>\n",
       "      <td>Male</td>\n",
       "      <td>No</td>\n",
       "      <td>Sun</td>\n",
       "      <td>Dinner</td>\n",
       "      <td>3</td>\n",
       "    </tr>\n",
       "    <tr>\n",
       "      <th>2</th>\n",
       "      <td>21.01</td>\n",
       "      <td>3.50</td>\n",
       "      <td>Male</td>\n",
       "      <td>No</td>\n",
       "      <td>Sun</td>\n",
       "      <td>Dinner</td>\n",
       "      <td>3</td>\n",
       "    </tr>\n",
       "    <tr>\n",
       "      <th>3</th>\n",
       "      <td>23.68</td>\n",
       "      <td>3.31</td>\n",
       "      <td>Male</td>\n",
       "      <td>No</td>\n",
       "      <td>Sun</td>\n",
       "      <td>Dinner</td>\n",
       "      <td>2</td>\n",
       "    </tr>\n",
       "    <tr>\n",
       "      <th>4</th>\n",
       "      <td>24.59</td>\n",
       "      <td>3.61</td>\n",
       "      <td>Female</td>\n",
       "      <td>No</td>\n",
       "      <td>Sun</td>\n",
       "      <td>Dinner</td>\n",
       "      <td>4</td>\n",
       "    </tr>\n",
       "  </tbody>\n",
       "</table>\n",
       "</div>"
      ],
      "text/plain": [
       "   total_bill   tip     sex smoker  day    time  size\n",
       "0       16.99  1.01  Female     No  Sun  Dinner     2\n",
       "1       10.34  1.66    Male     No  Sun  Dinner     3\n",
       "2       21.01  3.50    Male     No  Sun  Dinner     3\n",
       "3       23.68  3.31    Male     No  Sun  Dinner     2\n",
       "4       24.59  3.61  Female     No  Sun  Dinner     4"
      ]
     },
     "execution_count": 4,
     "metadata": {},
     "output_type": "execute_result"
    }
   ],
   "source": [
    "df.head()"
   ]
  },
  {
   "cell_type": "code",
   "execution_count": 5,
   "id": "d4b37a1e",
   "metadata": {},
   "outputs": [
    {
     "data": {
      "text/plain": [
       "Male      157\n",
       "Female     87\n",
       "Name: sex, dtype: int64"
      ]
     },
     "execution_count": 5,
     "metadata": {},
     "output_type": "execute_result"
    }
   ],
   "source": [
    "df['sex'].value_counts()"
   ]
  },
  {
   "cell_type": "code",
   "execution_count": 6,
   "id": "a67317ef",
   "metadata": {},
   "outputs": [
    {
     "data": {
      "text/plain": [
       "No     151\n",
       "Yes     93\n",
       "Name: smoker, dtype: int64"
      ]
     },
     "execution_count": 6,
     "metadata": {},
     "output_type": "execute_result"
    }
   ],
   "source": [
    "df['smoker'].value_counts()"
   ]
  },
  {
   "cell_type": "code",
   "execution_count": 7,
   "id": "a1c24d0d",
   "metadata": {},
   "outputs": [
    {
     "data": {
      "text/plain": [
       "Sat     87\n",
       "Sun     76\n",
       "Thur    62\n",
       "Fri     19\n",
       "Name: day, dtype: int64"
      ]
     },
     "execution_count": 7,
     "metadata": {},
     "output_type": "execute_result"
    }
   ],
   "source": [
    "df['day'].value_counts()"
   ]
  },
  {
   "cell_type": "code",
   "execution_count": 8,
   "id": "f0eac72b",
   "metadata": {},
   "outputs": [
    {
     "data": {
      "text/plain": [
       "Dinner    176\n",
       "Lunch      68\n",
       "Name: time, dtype: int64"
      ]
     },
     "execution_count": 8,
     "metadata": {},
     "output_type": "execute_result"
    }
   ],
   "source": [
    "df['time'].value_counts()"
   ]
  },
  {
   "cell_type": "code",
   "execution_count": 12,
   "id": "0cfb53ec",
   "metadata": {},
   "outputs": [],
   "source": [
    "## independent and dependent features\n",
    "X=df[['tip', 'sex', 'smoker', 'day', 'time', 'size']]\n",
    "y=df['total_bill']"
   ]
  },
  {
   "cell_type": "code",
   "execution_count": 14,
   "id": "e79be8f0",
   "metadata": {},
   "outputs": [],
   "source": [
    "## train test split\n",
    "from sklearn.model_selection import train_test_split\n",
    "X_train, X_test,y_train,y_test=train_test_split(X,y,test_size=0.25,random_state=10)"
   ]
  },
  {
   "cell_type": "code",
   "execution_count": 16,
   "id": "9827c062",
   "metadata": {},
   "outputs": [
    {
     "data": {
      "text/html": [
       "<div>\n",
       "<style scoped>\n",
       "    .dataframe tbody tr th:only-of-type {\n",
       "        vertical-align: middle;\n",
       "    }\n",
       "\n",
       "    .dataframe tbody tr th {\n",
       "        vertical-align: top;\n",
       "    }\n",
       "\n",
       "    .dataframe thead th {\n",
       "        text-align: right;\n",
       "    }\n",
       "</style>\n",
       "<table border=\"1\" class=\"dataframe\">\n",
       "  <thead>\n",
       "    <tr style=\"text-align: right;\">\n",
       "      <th></th>\n",
       "      <th>tip</th>\n",
       "      <th>sex</th>\n",
       "      <th>smoker</th>\n",
       "      <th>day</th>\n",
       "      <th>time</th>\n",
       "      <th>size</th>\n",
       "    </tr>\n",
       "  </thead>\n",
       "  <tbody>\n",
       "    <tr>\n",
       "      <th>58</th>\n",
       "      <td>1.76</td>\n",
       "      <td>Male</td>\n",
       "      <td>Yes</td>\n",
       "      <td>Sat</td>\n",
       "      <td>Dinner</td>\n",
       "      <td>2</td>\n",
       "    </tr>\n",
       "    <tr>\n",
       "      <th>1</th>\n",
       "      <td>1.66</td>\n",
       "      <td>Male</td>\n",
       "      <td>No</td>\n",
       "      <td>Sun</td>\n",
       "      <td>Dinner</td>\n",
       "      <td>3</td>\n",
       "    </tr>\n",
       "    <tr>\n",
       "      <th>2</th>\n",
       "      <td>3.50</td>\n",
       "      <td>Male</td>\n",
       "      <td>No</td>\n",
       "      <td>Sun</td>\n",
       "      <td>Dinner</td>\n",
       "      <td>3</td>\n",
       "    </tr>\n",
       "    <tr>\n",
       "      <th>68</th>\n",
       "      <td>2.01</td>\n",
       "      <td>Male</td>\n",
       "      <td>No</td>\n",
       "      <td>Sat</td>\n",
       "      <td>Dinner</td>\n",
       "      <td>2</td>\n",
       "    </tr>\n",
       "    <tr>\n",
       "      <th>184</th>\n",
       "      <td>3.00</td>\n",
       "      <td>Male</td>\n",
       "      <td>Yes</td>\n",
       "      <td>Sun</td>\n",
       "      <td>Dinner</td>\n",
       "      <td>2</td>\n",
       "    </tr>\n",
       "  </tbody>\n",
       "</table>\n",
       "</div>"
      ],
      "text/plain": [
       "      tip   sex smoker  day    time  size\n",
       "58   1.76  Male    Yes  Sat  Dinner     2\n",
       "1    1.66  Male     No  Sun  Dinner     3\n",
       "2    3.50  Male     No  Sun  Dinner     3\n",
       "68   2.01  Male     No  Sat  Dinner     2\n",
       "184  3.00  Male    Yes  Sun  Dinner     2"
      ]
     },
     "execution_count": 16,
     "metadata": {},
     "output_type": "execute_result"
    }
   ],
   "source": [
    "X_train.head()"
   ]
  },
  {
   "cell_type": "code",
   "execution_count": 17,
   "id": "567919c4",
   "metadata": {},
   "outputs": [],
   "source": [
    "## Feature Encoding (Lable encoding and One hot encoding)\n",
    "from sklearn.preprocessing import LabelEncoder"
   ]
  },
  {
   "cell_type": "code",
   "execution_count": 18,
   "id": "3b2acea9",
   "metadata": {},
   "outputs": [],
   "source": [
    "le1=LabelEncoder()\n",
    "le2=LabelEncoder()\n",
    "le3=LabelEncoder()"
   ]
  },
  {
   "cell_type": "code",
   "execution_count": 20,
   "id": "4f75ea7b",
   "metadata": {},
   "outputs": [],
   "source": [
    "X_train['sex'] = le1.fit_transform(X_train['sex'])\n",
    "X_train['smoker'] = le2.fit_transform(X_train['smoker'])\n",
    "X_train['time'] = le3.fit_transform(X_train['time'])"
   ]
  },
  {
   "cell_type": "code",
   "execution_count": 22,
   "id": "3a7f3a95",
   "metadata": {},
   "outputs": [
    {
     "data": {
      "text/html": [
       "<div>\n",
       "<style scoped>\n",
       "    .dataframe tbody tr th:only-of-type {\n",
       "        vertical-align: middle;\n",
       "    }\n",
       "\n",
       "    .dataframe tbody tr th {\n",
       "        vertical-align: top;\n",
       "    }\n",
       "\n",
       "    .dataframe thead th {\n",
       "        text-align: right;\n",
       "    }\n",
       "</style>\n",
       "<table border=\"1\" class=\"dataframe\">\n",
       "  <thead>\n",
       "    <tr style=\"text-align: right;\">\n",
       "      <th></th>\n",
       "      <th>tip</th>\n",
       "      <th>sex</th>\n",
       "      <th>smoker</th>\n",
       "      <th>day</th>\n",
       "      <th>time</th>\n",
       "      <th>size</th>\n",
       "    </tr>\n",
       "  </thead>\n",
       "  <tbody>\n",
       "    <tr>\n",
       "      <th>58</th>\n",
       "      <td>1.76</td>\n",
       "      <td>1</td>\n",
       "      <td>1</td>\n",
       "      <td>Sat</td>\n",
       "      <td>0</td>\n",
       "      <td>2</td>\n",
       "    </tr>\n",
       "    <tr>\n",
       "      <th>1</th>\n",
       "      <td>1.66</td>\n",
       "      <td>1</td>\n",
       "      <td>0</td>\n",
       "      <td>Sun</td>\n",
       "      <td>0</td>\n",
       "      <td>3</td>\n",
       "    </tr>\n",
       "    <tr>\n",
       "      <th>2</th>\n",
       "      <td>3.50</td>\n",
       "      <td>1</td>\n",
       "      <td>0</td>\n",
       "      <td>Sun</td>\n",
       "      <td>0</td>\n",
       "      <td>3</td>\n",
       "    </tr>\n",
       "    <tr>\n",
       "      <th>68</th>\n",
       "      <td>2.01</td>\n",
       "      <td>1</td>\n",
       "      <td>0</td>\n",
       "      <td>Sat</td>\n",
       "      <td>0</td>\n",
       "      <td>2</td>\n",
       "    </tr>\n",
       "    <tr>\n",
       "      <th>184</th>\n",
       "      <td>3.00</td>\n",
       "      <td>1</td>\n",
       "      <td>1</td>\n",
       "      <td>Sun</td>\n",
       "      <td>0</td>\n",
       "      <td>2</td>\n",
       "    </tr>\n",
       "  </tbody>\n",
       "</table>\n",
       "</div>"
      ],
      "text/plain": [
       "      tip  sex  smoker  day  time  size\n",
       "58   1.76    1       1  Sat     0     2\n",
       "1    1.66    1       0  Sun     0     3\n",
       "2    3.50    1       0  Sun     0     3\n",
       "68   2.01    1       0  Sat     0     2\n",
       "184  3.00    1       1  Sun     0     2"
      ]
     },
     "execution_count": 22,
     "metadata": {},
     "output_type": "execute_result"
    }
   ],
   "source": [
    "X_train.head()"
   ]
  },
  {
   "cell_type": "code",
   "execution_count": 24,
   "id": "0c1f938e",
   "metadata": {},
   "outputs": [],
   "source": [
    "X_test['sex'] = le1.transform(X_test['sex'])\n",
    "X_test['smoker'] = le2.transform(X_test['smoker'])\n",
    "X_test['time'] = le3.transform(X_test['time'])"
   ]
  },
  {
   "cell_type": "code",
   "execution_count": 25,
   "id": "4b93eac5",
   "metadata": {},
   "outputs": [],
   "source": [
    "## OneHot encoding--- ColumnTransformer\n",
    "from sklearn.compose import ColumnTransformer\n",
    "from sklearn.preprocessing import OneHotEncoder"
   ]
  },
  {
   "cell_type": "code",
   "execution_count": 33,
   "id": "4c522fcc",
   "metadata": {},
   "outputs": [],
   "source": [
    "ct = ColumnTransformer(\n",
    "    transformers=[('onehot', OneHotEncoder(drop='first'), [3])],\n",
    "    remainder='passthrough'\n",
    ")"
   ]
  },
  {
   "cell_type": "code",
   "execution_count": 37,
   "id": "3efbe30c",
   "metadata": {},
   "outputs": [],
   "source": [
    "import sys\n",
    "import numpy\n",
    "numpy.set_printoptions(threshold=sys.maxsize)\n",
    "X_train = ct.fit_transform(X_train)"
   ]
  },
  {
   "cell_type": "code",
   "execution_count": 39,
   "id": "1cbd7ffa",
   "metadata": {},
   "outputs": [
    {
     "data": {
      "text/plain": [
       "array([[ 1.  ,  0.  ,  0.  ,  1.76,  1.  ,  1.  ,  0.  ,  2.  ],\n",
       "       [ 0.  ,  1.  ,  0.  ,  1.66,  1.  ,  0.  ,  0.  ,  3.  ],\n",
       "       [ 0.  ,  1.  ,  0.  ,  3.5 ,  1.  ,  0.  ,  0.  ,  3.  ],\n",
       "       [ 1.  ,  0.  ,  0.  ,  2.01,  1.  ,  0.  ,  0.  ,  2.  ],\n",
       "       [ 0.  ,  1.  ,  0.  ,  3.  ,  1.  ,  1.  ,  0.  ,  2.  ],\n",
       "       [ 0.  ,  1.  ,  0.  ,  4.  ,  0.  ,  1.  ,  0.  ,  2.  ],\n",
       "       [ 0.  ,  1.  ,  0.  ,  5.2 ,  0.  ,  0.  ,  0.  ,  4.  ],\n",
       "       [ 0.  ,  0.  ,  1.  ,  4.  ,  1.  ,  1.  ,  1.  ,  4.  ],\n",
       "       [ 0.  ,  0.  ,  1.  ,  5.  ,  1.  ,  0.  ,  1.  ,  5.  ],\n",
       "       [ 1.  ,  0.  ,  0.  ,  3.  ,  0.  ,  0.  ,  0.  ,  2.  ],\n",
       "       [ 1.  ,  0.  ,  0.  ,  1.75,  1.  ,  0.  ,  0.  ,  2.  ],\n",
       "       [ 0.  ,  1.  ,  0.  ,  3.12,  1.  ,  0.  ,  0.  ,  4.  ],\n",
       "       [ 0.  ,  0.  ,  1.  ,  3.  ,  0.  ,  0.  ,  0.  ,  2.  ],\n",
       "       [ 1.  ,  0.  ,  0.  ,  5.  ,  1.  ,  0.  ,  0.  ,  3.  ],\n",
       "       [ 0.  ,  0.  ,  1.  ,  4.  ,  1.  ,  0.  ,  1.  ,  2.  ],\n",
       "       [ 1.  ,  0.  ,  0.  ,  2.  ,  0.  ,  1.  ,  0.  ,  2.  ],\n",
       "       [ 1.  ,  0.  ,  0.  ,  3.39,  1.  ,  0.  ,  0.  ,  2.  ],\n",
       "       [ 0.  ,  0.  ,  1.  ,  2.3 ,  0.  ,  0.  ,  1.  ,  2.  ],\n",
       "       [ 1.  ,  0.  ,  0.  ,  2.03,  1.  ,  1.  ,  0.  ,  2.  ],\n",
       "       [ 1.  ,  0.  ,  0.  ,  1.64,  1.  ,  1.  ,  0.  ,  2.  ],\n",
       "       [ 1.  ,  0.  ,  0.  ,  1.17,  1.  ,  1.  ,  0.  ,  2.  ],\n",
       "       [ 0.  ,  0.  ,  1.  ,  3.  ,  1.  ,  0.  ,  1.  ,  2.  ],\n",
       "       [ 1.  ,  0.  ,  0.  ,  2.34,  1.  ,  0.  ,  0.  ,  4.  ],\n",
       "       [ 0.  ,  0.  ,  1.  ,  2.52,  0.  ,  0.  ,  1.  ,  2.  ],\n",
       "       [ 0.  ,  1.  ,  0.  ,  2.  ,  1.  ,  1.  ,  0.  ,  2.  ],\n",
       "       [ 1.  ,  0.  ,  0.  ,  3.14,  0.  ,  1.  ,  0.  ,  2.  ],\n",
       "       [ 1.  ,  0.  ,  0.  ,  1.47,  1.  ,  0.  ,  0.  ,  2.  ],\n",
       "       [ 1.  ,  0.  ,  0.  ,  3.  ,  1.  ,  1.  ,  0.  ,  3.  ],\n",
       "       [ 1.  ,  0.  ,  0.  ,  1.61,  0.  ,  1.  ,  0.  ,  2.  ],\n",
       "       [ 0.  ,  1.  ,  0.  ,  3.5 ,  0.  ,  1.  ,  0.  ,  3.  ],\n",
       "       [ 1.  ,  0.  ,  0.  ,  2.  ,  1.  ,  1.  ,  0.  ,  2.  ],\n",
       "       [ 0.  ,  0.  ,  1.  ,  1.5 ,  0.  ,  0.  ,  1.  ,  2.  ],\n",
       "       [ 0.  ,  1.  ,  0.  ,  3.5 ,  1.  ,  0.  ,  0.  ,  4.  ],\n",
       "       [ 0.  ,  1.  ,  0.  ,  1.32,  1.  ,  0.  ,  0.  ,  2.  ],\n",
       "       [ 1.  ,  0.  ,  0.  ,  4.  ,  0.  ,  1.  ,  0.  ,  2.  ],\n",
       "       [ 0.  ,  1.  ,  0.  ,  3.18,  1.  ,  1.  ,  0.  ,  2.  ],\n",
       "       [ 1.  ,  0.  ,  0.  ,  2.75,  0.  ,  0.  ,  0.  ,  2.  ],\n",
       "       [ 0.  ,  1.  ,  0.  ,  5.14,  0.  ,  0.  ,  0.  ,  5.  ],\n",
       "       [ 1.  ,  0.  ,  0.  ,  3.07,  0.  ,  0.  ,  0.  ,  3.  ],\n",
       "       [ 0.  ,  0.  ,  1.  ,  2.5 ,  0.  ,  1.  ,  1.  ,  2.  ],\n",
       "       [ 1.  ,  0.  ,  0.  ,  1.25,  1.  ,  0.  ,  0.  ,  2.  ],\n",
       "       [ 0.  ,  0.  ,  1.  ,  2.56,  1.  ,  1.  ,  1.  ,  2.  ],\n",
       "       [ 0.  ,  1.  ,  0.  ,  2.05,  1.  ,  0.  ,  0.  ,  3.  ],\n",
       "       [ 0.  ,  0.  ,  1.  ,  4.19,  0.  ,  1.  ,  1.  ,  2.  ],\n",
       "       [ 0.  ,  0.  ,  1.  ,  2.83,  0.  ,  0.  ,  1.  ,  2.  ],\n",
       "       [ 0.  ,  0.  ,  1.  ,  2.  ,  1.  ,  1.  ,  1.  ,  2.  ],\n",
       "       [ 0.  ,  0.  ,  1.  ,  4.  ,  1.  ,  1.  ,  1.  ,  2.  ],\n",
       "       [ 0.  ,  0.  ,  0.  ,  1.5 ,  1.  ,  0.  ,  0.  ,  2.  ],\n",
       "       [ 0.  ,  0.  ,  0.  ,  4.73,  1.  ,  1.  ,  0.  ,  4.  ],\n",
       "       [ 0.  ,  1.  ,  0.  ,  2.74,  1.  ,  0.  ,  0.  ,  3.  ],\n",
       "       [ 1.  ,  0.  ,  0.  ,  1.  ,  0.  ,  1.  ,  0.  ,  1.  ],\n",
       "       [ 1.  ,  0.  ,  0.  ,  2.47,  0.  ,  0.  ,  0.  ,  2.  ],\n",
       "       [ 0.  ,  1.  ,  0.  ,  5.15,  1.  ,  1.  ,  0.  ,  2.  ],\n",
       "       [ 1.  ,  0.  ,  0.  ,  2.23,  0.  ,  0.  ,  0.  ,  2.  ],\n",
       "       [ 1.  ,  0.  ,  0.  ,  2.31,  1.  ,  0.  ,  0.  ,  3.  ],\n",
       "       [ 1.  ,  0.  ,  0.  ,  5.92,  1.  ,  0.  ,  0.  ,  3.  ],\n",
       "       [ 1.  ,  0.  ,  0.  ,  2.  ,  1.  ,  1.  ,  0.  ,  4.  ],\n",
       "       [ 0.  ,  0.  ,  0.  ,  3.  ,  0.  ,  1.  ,  0.  ,  2.  ],\n",
       "       [ 1.  ,  0.  ,  0.  ,  2.23,  0.  ,  1.  ,  0.  ,  2.  ],\n",
       "       [ 1.  ,  0.  ,  0.  ,  2.88,  0.  ,  1.  ,  0.  ,  2.  ],\n",
       "       [ 0.  ,  0.  ,  1.  ,  2.  ,  1.  ,  1.  ,  1.  ,  2.  ],\n",
       "       [ 0.  ,  0.  ,  1.  ,  1.5 ,  1.  ,  0.  ,  1.  ,  2.  ],\n",
       "       [ 0.  ,  0.  ,  1.  ,  2.18,  1.  ,  0.  ,  1.  ,  3.  ],\n",
       "       [ 0.  ,  0.  ,  1.  ,  2.  ,  0.  ,  1.  ,  1.  ,  2.  ],\n",
       "       [ 0.  ,  1.  ,  0.  ,  4.  ,  0.  ,  0.  ,  0.  ,  3.  ],\n",
       "       [ 1.  ,  0.  ,  0.  ,  3.  ,  1.  ,  1.  ,  0.  ,  4.  ],\n",
       "       [ 0.  ,  0.  ,  0.  ,  3.  ,  1.  ,  1.  ,  0.  ,  2.  ],\n",
       "       [ 0.  ,  1.  ,  0.  ,  2.54,  1.  ,  0.  ,  0.  ,  2.  ],\n",
       "       [ 0.  ,  0.  ,  1.  ,  3.4 ,  1.  ,  0.  ,  1.  ,  2.  ],\n",
       "       [ 1.  ,  0.  ,  0.  , 10.  ,  1.  ,  1.  ,  0.  ,  3.  ],\n",
       "       [ 1.  ,  0.  ,  0.  ,  3.  ,  1.  ,  0.  ,  0.  ,  2.  ],\n",
       "       [ 0.  ,  1.  ,  0.  ,  1.56,  1.  ,  0.  ,  0.  ,  2.  ],\n",
       "       [ 0.  ,  1.  ,  0.  ,  3.71,  1.  ,  0.  ,  0.  ,  3.  ],\n",
       "       [ 0.  ,  1.  ,  0.  ,  4.  ,  1.  ,  1.  ,  0.  ,  3.  ],\n",
       "       [ 0.  ,  1.  ,  0.  ,  2.6 ,  0.  ,  0.  ,  0.  ,  2.  ],\n",
       "       [ 0.  ,  1.  ,  0.  ,  3.02,  0.  ,  0.  ,  0.  ,  2.  ],\n",
       "       [ 0.  ,  1.  ,  0.  ,  2.  ,  1.  ,  0.  ,  0.  ,  4.  ],\n",
       "       [ 0.  ,  0.  ,  1.  ,  1.83,  0.  ,  0.  ,  1.  ,  1.  ],\n",
       "       [ 0.  ,  0.  ,  1.  ,  2.03,  1.  ,  0.  ,  1.  ,  2.  ],\n",
       "       [ 0.  ,  0.  ,  0.  ,  2.5 ,  0.  ,  1.  ,  1.  ,  2.  ],\n",
       "       [ 1.  ,  0.  ,  0.  ,  3.  ,  0.  ,  0.  ,  0.  ,  2.  ],\n",
       "       [ 0.  ,  1.  ,  0.  ,  3.31,  1.  ,  0.  ,  0.  ,  2.  ],\n",
       "       [ 1.  ,  0.  ,  0.  ,  7.58,  1.  ,  0.  ,  0.  ,  4.  ],\n",
       "       [ 0.  ,  0.  ,  1.  ,  2.  ,  0.  ,  0.  ,  1.  ,  2.  ],\n",
       "       [ 0.  ,  1.  ,  0.  ,  3.  ,  1.  ,  0.  ,  0.  ,  2.  ],\n",
       "       [ 0.  ,  1.  ,  0.  ,  3.48,  1.  ,  0.  ,  0.  ,  3.  ],\n",
       "       [ 0.  ,  0.  ,  0.  ,  1.5 ,  1.  ,  1.  ,  0.  ,  2.  ],\n",
       "       [ 0.  ,  0.  ,  1.  ,  2.  ,  1.  ,  1.  ,  1.  ,  2.  ],\n",
       "       [ 0.  ,  1.  ,  0.  ,  3.06,  1.  ,  0.  ,  0.  ,  2.  ],\n",
       "       [ 1.  ,  0.  ,  0.  ,  3.  ,  1.  ,  0.  ,  0.  ,  4.  ],\n",
       "       [ 0.  ,  0.  ,  1.  ,  2.71,  1.  ,  0.  ,  1.  ,  2.  ],\n",
       "       [ 1.  ,  0.  ,  0.  ,  1.44,  1.  ,  1.  ,  0.  ,  2.  ],\n",
       "       [ 0.  ,  1.  ,  0.  ,  1.57,  1.  ,  0.  ,  0.  ,  2.  ],\n",
       "       [ 0.  ,  1.  ,  0.  ,  4.  ,  1.  ,  0.  ,  0.  ,  3.  ],\n",
       "       [ 0.  ,  1.  ,  0.  ,  5.  ,  0.  ,  0.  ,  0.  ,  4.  ],\n",
       "       [ 0.  ,  1.  ,  0.  ,  1.5 ,  1.  ,  1.  ,  0.  ,  2.  ],\n",
       "       [ 0.  ,  0.  ,  1.  ,  5.17,  0.  ,  0.  ,  1.  ,  4.  ],\n",
       "       [ 0.  ,  0.  ,  1.  ,  3.25,  0.  ,  0.  ,  1.  ,  2.  ],\n",
       "       [ 0.  ,  0.  ,  1.  ,  5.  ,  0.  ,  0.  ,  1.  ,  6.  ],\n",
       "       [ 0.  ,  1.  ,  0.  ,  2.24,  1.  ,  0.  ,  0.  ,  2.  ],\n",
       "       [ 0.  ,  1.  ,  0.  ,  6.5 ,  1.  ,  1.  ,  0.  ,  4.  ],\n",
       "       [ 1.  ,  0.  ,  0.  ,  4.08,  0.  ,  0.  ,  0.  ,  2.  ],\n",
       "       [ 1.  ,  0.  ,  0.  ,  3.27,  1.  ,  0.  ,  0.  ,  2.  ],\n",
       "       [ 1.  ,  0.  ,  0.  ,  3.76,  1.  ,  0.  ,  0.  ,  2.  ],\n",
       "       [ 0.  ,  1.  ,  0.  ,  2.5 ,  1.  ,  0.  ,  0.  ,  2.  ],\n",
       "       [ 0.  ,  1.  ,  0.  ,  4.5 ,  1.  ,  0.  ,  0.  ,  4.  ],\n",
       "       [ 1.  ,  0.  ,  0.  ,  9.  ,  1.  ,  0.  ,  0.  ,  4.  ],\n",
       "       [ 0.  ,  1.  ,  0.  ,  3.68,  1.  ,  1.  ,  0.  ,  4.  ],\n",
       "       [ 0.  ,  1.  ,  0.  ,  3.61,  0.  ,  0.  ,  0.  ,  4.  ],\n",
       "       [ 0.  ,  0.  ,  1.  ,  2.  ,  0.  ,  0.  ,  1.  ,  2.  ],\n",
       "       [ 0.  ,  1.  ,  0.  ,  5.6 ,  1.  ,  0.  ,  0.  ,  4.  ],\n",
       "       [ 0.  ,  0.  ,  0.  ,  4.  ,  1.  ,  1.  ,  0.  ,  2.  ],\n",
       "       [ 1.  ,  0.  ,  0.  ,  1.25,  1.  ,  0.  ,  0.  ,  2.  ],\n",
       "       [ 1.  ,  0.  ,  0.  ,  4.3 ,  1.  ,  0.  ,  0.  ,  2.  ],\n",
       "       [ 0.  ,  0.  ,  1.  ,  1.25,  0.  ,  0.  ,  1.  ,  2.  ],\n",
       "       [ 0.  ,  1.  ,  0.  ,  4.  ,  1.  ,  1.  ,  0.  ,  2.  ],\n",
       "       [ 0.  ,  0.  ,  1.  ,  1.5 ,  0.  ,  0.  ,  1.  ,  2.  ],\n",
       "       [ 0.  ,  1.  ,  0.  ,  2.  ,  1.  ,  1.  ,  0.  ,  5.  ],\n",
       "       [ 1.  ,  0.  ,  0.  ,  3.  ,  1.  ,  1.  ,  0.  ,  2.  ],\n",
       "       [ 1.  ,  0.  ,  0.  ,  3.  ,  0.  ,  0.  ,  0.  ,  3.  ],\n",
       "       [ 0.  ,  0.  ,  1.  ,  1.8 ,  0.  ,  0.  ,  1.  ,  2.  ],\n",
       "       [ 0.  ,  0.  ,  1.  ,  2.02,  1.  ,  1.  ,  1.  ,  2.  ],\n",
       "       [ 1.  ,  0.  ,  0.  ,  2.  ,  0.  ,  1.  ,  0.  ,  2.  ],\n",
       "       [ 0.  ,  0.  ,  1.  ,  2.  ,  0.  ,  0.  ,  1.  ,  2.  ],\n",
       "       [ 1.  ,  0.  ,  0.  ,  2.2 ,  0.  ,  0.  ,  0.  ,  2.  ],\n",
       "       [ 1.  ,  0.  ,  0.  ,  1.  ,  1.  ,  1.  ,  0.  ,  2.  ],\n",
       "       [ 0.  ,  0.  ,  0.  ,  3.  ,  0.  ,  0.  ,  1.  ,  3.  ],\n",
       "       [ 0.  ,  0.  ,  0.  ,  3.25,  0.  ,  0.  ,  0.  ,  2.  ],\n",
       "       [ 0.  ,  1.  ,  0.  ,  2.  ,  1.  ,  0.  ,  0.  ,  2.  ],\n",
       "       [ 0.  ,  1.  ,  0.  ,  2.5 ,  1.  ,  0.  ,  0.  ,  2.  ],\n",
       "       [ 1.  ,  0.  ,  0.  ,  2.  ,  1.  ,  1.  ,  0.  ,  3.  ],\n",
       "       [ 0.  ,  0.  ,  0.  ,  4.3 ,  0.  ,  1.  ,  0.  ,  2.  ],\n",
       "       [ 0.  ,  1.  ,  0.  ,  3.5 ,  0.  ,  0.  ,  0.  ,  3.  ],\n",
       "       [ 1.  ,  0.  ,  0.  ,  2.  ,  1.  ,  0.  ,  0.  ,  2.  ],\n",
       "       [ 1.  ,  0.  ,  0.  ,  2.  ,  1.  ,  0.  ,  0.  ,  3.  ],\n",
       "       [ 1.  ,  0.  ,  0.  ,  1.5 ,  0.  ,  0.  ,  0.  ,  2.  ],\n",
       "       [ 1.  ,  0.  ,  0.  ,  2.5 ,  1.  ,  0.  ,  0.  ,  4.  ],\n",
       "       [ 1.  ,  0.  ,  0.  ,  3.15,  1.  ,  0.  ,  0.  ,  3.  ],\n",
       "       [ 0.  ,  0.  ,  1.  ,  3.5 ,  0.  ,  0.  ,  1.  ,  2.  ],\n",
       "       [ 0.  ,  0.  ,  1.  ,  3.  ,  1.  ,  0.  ,  1.  ,  2.  ],\n",
       "       [ 0.  ,  1.  ,  0.  ,  2.61,  0.  ,  0.  ,  0.  ,  2.  ],\n",
       "       [ 1.  ,  0.  ,  0.  ,  1.45,  1.  ,  0.  ,  0.  ,  2.  ],\n",
       "       [ 0.  ,  0.  ,  1.  ,  2.  ,  1.  ,  0.  ,  1.  ,  2.  ],\n",
       "       [ 0.  ,  0.  ,  0.  ,  1.  ,  0.  ,  1.  ,  0.  ,  2.  ],\n",
       "       [ 0.  ,  0.  ,  1.  ,  6.7 ,  1.  ,  0.  ,  1.  ,  6.  ],\n",
       "       [ 0.  ,  0.  ,  1.  ,  1.48,  1.  ,  0.  ,  1.  ,  2.  ],\n",
       "       [ 0.  ,  1.  ,  0.  ,  2.  ,  1.  ,  0.  ,  0.  ,  4.  ],\n",
       "       [ 0.  ,  1.  ,  0.  ,  3.  ,  1.  ,  0.  ,  0.  ,  4.  ],\n",
       "       [ 0.  ,  0.  ,  1.  ,  5.  ,  0.  ,  1.  ,  1.  ,  4.  ],\n",
       "       [ 0.  ,  0.  ,  1.  ,  4.  ,  1.  ,  0.  ,  1.  ,  4.  ],\n",
       "       [ 0.  ,  0.  ,  0.  ,  1.92,  1.  ,  1.  ,  1.  ,  1.  ],\n",
       "       [ 0.  ,  1.  ,  0.  ,  3.55,  1.  ,  1.  ,  0.  ,  2.  ],\n",
       "       [ 0.  ,  1.  ,  0.  ,  2.  ,  1.  ,  1.  ,  0.  ,  2.  ],\n",
       "       [ 1.  ,  0.  ,  0.  ,  3.41,  1.  ,  1.  ,  0.  ,  3.  ],\n",
       "       [ 0.  ,  0.  ,  0.  ,  1.58,  1.  ,  1.  ,  1.  ,  2.  ],\n",
       "       [ 0.  ,  0.  ,  1.  ,  4.  ,  1.  ,  1.  ,  1.  ,  3.  ],\n",
       "       [ 1.  ,  0.  ,  0.  ,  2.45,  0.  ,  0.  ,  0.  ,  4.  ],\n",
       "       [ 1.  ,  0.  ,  0.  ,  1.98,  1.  ,  1.  ,  0.  ,  2.  ],\n",
       "       [ 0.  ,  0.  ,  1.  ,  2.5 ,  1.  ,  0.  ,  1.  ,  2.  ],\n",
       "       [ 1.  ,  0.  ,  0.  ,  4.29,  1.  ,  1.  ,  0.  ,  2.  ],\n",
       "       [ 0.  ,  0.  ,  1.  ,  5.85,  1.  ,  0.  ,  1.  ,  2.  ],\n",
       "       [ 0.  ,  1.  ,  0.  ,  4.34,  1.  ,  0.  ,  0.  ,  4.  ],\n",
       "       [ 0.  ,  0.  ,  1.  ,  2.75,  0.  ,  0.  ,  1.  ,  2.  ],\n",
       "       [ 0.  ,  0.  ,  0.  ,  2.5 ,  0.  ,  1.  ,  0.  ,  2.  ],\n",
       "       [ 0.  ,  1.  ,  0.  ,  1.67,  0.  ,  0.  ,  0.  ,  3.  ],\n",
       "       [ 0.  ,  1.  ,  0.  ,  3.5 ,  0.  ,  0.  ,  0.  ,  2.  ],\n",
       "       [ 0.  ,  1.  ,  0.  ,  3.  ,  0.  ,  1.  ,  0.  ,  2.  ],\n",
       "       [ 1.  ,  0.  ,  0.  ,  2.24,  1.  ,  0.  ,  0.  ,  3.  ],\n",
       "       [ 0.  ,  1.  ,  0.  ,  1.01,  0.  ,  0.  ,  0.  ,  2.  ],\n",
       "       [ 1.  ,  0.  ,  0.  ,  5.  ,  0.  ,  1.  ,  0.  ,  2.  ],\n",
       "       [ 0.  ,  1.  ,  0.  ,  1.96,  1.  ,  0.  ,  0.  ,  2.  ],\n",
       "       [ 1.  ,  0.  ,  0.  ,  4.67,  0.  ,  0.  ,  0.  ,  3.  ],\n",
       "       [ 0.  ,  1.  ,  0.  ,  3.75,  0.  ,  0.  ,  0.  ,  4.  ],\n",
       "       [ 0.  ,  0.  ,  0.  ,  3.48,  0.  ,  1.  ,  1.  ,  2.  ],\n",
       "       [ 1.  ,  0.  ,  0.  ,  1.5 ,  1.  ,  1.  ,  0.  ,  2.  ],\n",
       "       [ 0.  ,  1.  ,  0.  ,  5.  ,  1.  ,  0.  ,  0.  ,  6.  ],\n",
       "       [ 0.  ,  0.  ,  1.  ,  2.  ,  1.  ,  0.  ,  1.  ,  2.  ],\n",
       "       [ 0.  ,  1.  ,  0.  ,  2.55,  1.  ,  0.  ,  0.  ,  2.  ],\n",
       "       [ 1.  ,  0.  ,  0.  ,  2.64,  1.  ,  0.  ,  0.  ,  3.  ],\n",
       "       [ 0.  ,  1.  ,  0.  ,  3.92,  1.  ,  0.  ,  0.  ,  2.  ],\n",
       "       [ 1.  ,  0.  ,  0.  ,  2.72,  1.  ,  0.  ,  0.  ,  2.  ],\n",
       "       [ 0.  ,  0.  ,  1.  ,  4.2 ,  0.  ,  0.  ,  1.  ,  6.  ],\n",
       "       [ 0.  ,  1.  ,  0.  ,  3.23,  1.  ,  0.  ,  0.  ,  2.  ]])"
      ]
     },
     "execution_count": 39,
     "metadata": {},
     "output_type": "execute_result"
    }
   ],
   "source": [
    "X_train"
   ]
  },
  {
   "cell_type": "code",
   "execution_count": 40,
   "id": "7c5837fd",
   "metadata": {},
   "outputs": [],
   "source": [
    "x_test=ct.transform(X_test)"
   ]
  },
  {
   "cell_type": "code",
   "execution_count": 41,
   "id": "bf79e43f",
   "metadata": {},
   "outputs": [
    {
     "data": {
      "text/html": [
       "<div>\n",
       "<style scoped>\n",
       "    .dataframe tbody tr th:only-of-type {\n",
       "        vertical-align: middle;\n",
       "    }\n",
       "\n",
       "    .dataframe tbody tr th {\n",
       "        vertical-align: top;\n",
       "    }\n",
       "\n",
       "    .dataframe thead th {\n",
       "        text-align: right;\n",
       "    }\n",
       "</style>\n",
       "<table border=\"1\" class=\"dataframe\">\n",
       "  <thead>\n",
       "    <tr style=\"text-align: right;\">\n",
       "      <th></th>\n",
       "      <th>tip</th>\n",
       "      <th>sex</th>\n",
       "      <th>smoker</th>\n",
       "      <th>day</th>\n",
       "      <th>time</th>\n",
       "      <th>size</th>\n",
       "    </tr>\n",
       "  </thead>\n",
       "  <tbody>\n",
       "    <tr>\n",
       "      <th>162</th>\n",
       "      <td>2.00</td>\n",
       "      <td>0</td>\n",
       "      <td>0</td>\n",
       "      <td>Sun</td>\n",
       "      <td>0</td>\n",
       "      <td>3</td>\n",
       "    </tr>\n",
       "    <tr>\n",
       "      <th>60</th>\n",
       "      <td>3.21</td>\n",
       "      <td>1</td>\n",
       "      <td>1</td>\n",
       "      <td>Sat</td>\n",
       "      <td>0</td>\n",
       "      <td>2</td>\n",
       "    </tr>\n",
       "    <tr>\n",
       "      <th>61</th>\n",
       "      <td>2.00</td>\n",
       "      <td>1</td>\n",
       "      <td>1</td>\n",
       "      <td>Sat</td>\n",
       "      <td>0</td>\n",
       "      <td>2</td>\n",
       "    </tr>\n",
       "    <tr>\n",
       "      <th>63</th>\n",
       "      <td>3.76</td>\n",
       "      <td>1</td>\n",
       "      <td>1</td>\n",
       "      <td>Sat</td>\n",
       "      <td>0</td>\n",
       "      <td>4</td>\n",
       "    </tr>\n",
       "    <tr>\n",
       "      <th>69</th>\n",
       "      <td>2.09</td>\n",
       "      <td>1</td>\n",
       "      <td>1</td>\n",
       "      <td>Sat</td>\n",
       "      <td>0</td>\n",
       "      <td>2</td>\n",
       "    </tr>\n",
       "    <tr>\n",
       "      <th>...</th>\n",
       "      <td>...</td>\n",
       "      <td>...</td>\n",
       "      <td>...</td>\n",
       "      <td>...</td>\n",
       "      <td>...</td>\n",
       "      <td>...</td>\n",
       "    </tr>\n",
       "    <tr>\n",
       "      <th>201</th>\n",
       "      <td>2.01</td>\n",
       "      <td>0</td>\n",
       "      <td>1</td>\n",
       "      <td>Thur</td>\n",
       "      <td>1</td>\n",
       "      <td>2</td>\n",
       "    </tr>\n",
       "    <tr>\n",
       "      <th>149</th>\n",
       "      <td>2.00</td>\n",
       "      <td>1</td>\n",
       "      <td>0</td>\n",
       "      <td>Thur</td>\n",
       "      <td>1</td>\n",
       "      <td>2</td>\n",
       "    </tr>\n",
       "    <tr>\n",
       "      <th>175</th>\n",
       "      <td>3.11</td>\n",
       "      <td>1</td>\n",
       "      <td>1</td>\n",
       "      <td>Sun</td>\n",
       "      <td>0</td>\n",
       "      <td>2</td>\n",
       "    </tr>\n",
       "    <tr>\n",
       "      <th>226</th>\n",
       "      <td>2.00</td>\n",
       "      <td>0</td>\n",
       "      <td>1</td>\n",
       "      <td>Fri</td>\n",
       "      <td>1</td>\n",
       "      <td>2</td>\n",
       "    </tr>\n",
       "    <tr>\n",
       "      <th>49</th>\n",
       "      <td>3.00</td>\n",
       "      <td>1</td>\n",
       "      <td>0</td>\n",
       "      <td>Sun</td>\n",
       "      <td>0</td>\n",
       "      <td>2</td>\n",
       "    </tr>\n",
       "  </tbody>\n",
       "</table>\n",
       "<p>61 rows × 6 columns</p>\n",
       "</div>"
      ],
      "text/plain": [
       "      tip  sex  smoker   day  time  size\n",
       "162  2.00    0       0   Sun     0     3\n",
       "60   3.21    1       1   Sat     0     2\n",
       "61   2.00    1       1   Sat     0     2\n",
       "63   3.76    1       1   Sat     0     4\n",
       "69   2.09    1       1   Sat     0     2\n",
       "..    ...  ...     ...   ...   ...   ...\n",
       "201  2.01    0       1  Thur     1     2\n",
       "149  2.00    1       0  Thur     1     2\n",
       "175  3.11    1       1   Sun     0     2\n",
       "226  2.00    0       1   Fri     1     2\n",
       "49   3.00    1       0   Sun     0     2\n",
       "\n",
       "[61 rows x 6 columns]"
      ]
     },
     "execution_count": 41,
     "metadata": {},
     "output_type": "execute_result"
    }
   ],
   "source": [
    "X_test"
   ]
  },
  {
   "cell_type": "code",
   "execution_count": 42,
   "id": "873c2448",
   "metadata": {},
   "outputs": [],
   "source": [
    "## SVR\n",
    "\n",
    "from sklearn.svm import SVR\n",
    "svr=SVR()"
   ]
  },
  {
   "cell_type": "code",
   "execution_count": 43,
   "id": "a1beb992",
   "metadata": {},
   "outputs": [
    {
     "data": {
      "text/plain": [
       "SVR()"
      ]
     },
     "execution_count": 43,
     "metadata": {},
     "output_type": "execute_result"
    }
   ],
   "source": [
    "svr.fit(X_train,y_train)"
   ]
  },
  {
   "cell_type": "code",
   "execution_count": 44,
   "id": "29854029",
   "metadata": {},
   "outputs": [
    {
     "name": "stderr",
     "output_type": "stream",
     "text": [
      "/Users/shivamdubey/opt/anaconda3/lib/python3.9/site-packages/sklearn/base.py:443: UserWarning: X has feature names, but SVR was fitted without feature names\n",
      "  warnings.warn(\n"
     ]
    },
    {
     "ename": "ValueError",
     "evalue": "could not convert string to float: 'Sun'",
     "output_type": "error",
     "traceback": [
      "\u001b[0;31m---------------------------------------------------------------------------\u001b[0m",
      "\u001b[0;31mValueError\u001b[0m                                Traceback (most recent call last)",
      "\u001b[0;32m/var/folders/cy/5q5tbny93010tk6yzsxpr7l00000gn/T/ipykernel_9441/215017686.py\u001b[0m in \u001b[0;36m<module>\u001b[0;34m\u001b[0m\n\u001b[0;32m----> 1\u001b[0;31m \u001b[0my_pred\u001b[0m \u001b[0;34m=\u001b[0m \u001b[0msvr\u001b[0m\u001b[0;34m.\u001b[0m\u001b[0mpredict\u001b[0m\u001b[0;34m(\u001b[0m\u001b[0mX_test\u001b[0m\u001b[0;34m)\u001b[0m\u001b[0;34m\u001b[0m\u001b[0;34m\u001b[0m\u001b[0m\n\u001b[0m",
      "\u001b[0;32m~/opt/anaconda3/lib/python3.9/site-packages/sklearn/svm/_base.py\u001b[0m in \u001b[0;36mpredict\u001b[0;34m(self, X)\u001b[0m\n\u001b[1;32m    412\u001b[0m             \u001b[0mThe\u001b[0m \u001b[0mpredicted\u001b[0m \u001b[0mvalues\u001b[0m\u001b[0;34m.\u001b[0m\u001b[0;34m\u001b[0m\u001b[0;34m\u001b[0m\u001b[0m\n\u001b[1;32m    413\u001b[0m         \"\"\"\n\u001b[0;32m--> 414\u001b[0;31m         \u001b[0mX\u001b[0m \u001b[0;34m=\u001b[0m \u001b[0mself\u001b[0m\u001b[0;34m.\u001b[0m\u001b[0m_validate_for_predict\u001b[0m\u001b[0;34m(\u001b[0m\u001b[0mX\u001b[0m\u001b[0;34m)\u001b[0m\u001b[0;34m\u001b[0m\u001b[0;34m\u001b[0m\u001b[0m\n\u001b[0m\u001b[1;32m    415\u001b[0m         \u001b[0mpredict\u001b[0m \u001b[0;34m=\u001b[0m \u001b[0mself\u001b[0m\u001b[0;34m.\u001b[0m\u001b[0m_sparse_predict\u001b[0m \u001b[0;32mif\u001b[0m \u001b[0mself\u001b[0m\u001b[0;34m.\u001b[0m\u001b[0m_sparse\u001b[0m \u001b[0;32melse\u001b[0m \u001b[0mself\u001b[0m\u001b[0;34m.\u001b[0m\u001b[0m_dense_predict\u001b[0m\u001b[0;34m\u001b[0m\u001b[0;34m\u001b[0m\u001b[0m\n\u001b[1;32m    416\u001b[0m         \u001b[0;32mreturn\u001b[0m \u001b[0mpredict\u001b[0m\u001b[0;34m(\u001b[0m\u001b[0mX\u001b[0m\u001b[0;34m)\u001b[0m\u001b[0;34m\u001b[0m\u001b[0;34m\u001b[0m\u001b[0m\n",
      "\u001b[0;32m~/opt/anaconda3/lib/python3.9/site-packages/sklearn/svm/_base.py\u001b[0m in \u001b[0;36m_validate_for_predict\u001b[0;34m(self, X)\u001b[0m\n\u001b[1;32m    590\u001b[0m \u001b[0;34m\u001b[0m\u001b[0m\n\u001b[1;32m    591\u001b[0m         \u001b[0;32mif\u001b[0m \u001b[0;32mnot\u001b[0m \u001b[0mcallable\u001b[0m\u001b[0;34m(\u001b[0m\u001b[0mself\u001b[0m\u001b[0;34m.\u001b[0m\u001b[0mkernel\u001b[0m\u001b[0;34m)\u001b[0m\u001b[0;34m:\u001b[0m\u001b[0;34m\u001b[0m\u001b[0;34m\u001b[0m\u001b[0m\n\u001b[0;32m--> 592\u001b[0;31m             X = self._validate_data(\n\u001b[0m\u001b[1;32m    593\u001b[0m                 \u001b[0mX\u001b[0m\u001b[0;34m,\u001b[0m\u001b[0;34m\u001b[0m\u001b[0;34m\u001b[0m\u001b[0m\n\u001b[1;32m    594\u001b[0m                 \u001b[0maccept_sparse\u001b[0m\u001b[0;34m=\u001b[0m\u001b[0;34m\"csr\"\u001b[0m\u001b[0;34m,\u001b[0m\u001b[0;34m\u001b[0m\u001b[0;34m\u001b[0m\u001b[0m\n",
      "\u001b[0;32m~/opt/anaconda3/lib/python3.9/site-packages/sklearn/base.py\u001b[0m in \u001b[0;36m_validate_data\u001b[0;34m(self, X, y, reset, validate_separately, **check_params)\u001b[0m\n\u001b[1;32m    564\u001b[0m             \u001b[0;32mraise\u001b[0m \u001b[0mValueError\u001b[0m\u001b[0;34m(\u001b[0m\u001b[0;34m\"Validation should be done on X, y or both.\"\u001b[0m\u001b[0;34m)\u001b[0m\u001b[0;34m\u001b[0m\u001b[0;34m\u001b[0m\u001b[0m\n\u001b[1;32m    565\u001b[0m         \u001b[0;32melif\u001b[0m \u001b[0;32mnot\u001b[0m \u001b[0mno_val_X\u001b[0m \u001b[0;32mand\u001b[0m \u001b[0mno_val_y\u001b[0m\u001b[0;34m:\u001b[0m\u001b[0;34m\u001b[0m\u001b[0;34m\u001b[0m\u001b[0m\n\u001b[0;32m--> 566\u001b[0;31m             \u001b[0mX\u001b[0m \u001b[0;34m=\u001b[0m \u001b[0mcheck_array\u001b[0m\u001b[0;34m(\u001b[0m\u001b[0mX\u001b[0m\u001b[0;34m,\u001b[0m \u001b[0;34m**\u001b[0m\u001b[0mcheck_params\u001b[0m\u001b[0;34m)\u001b[0m\u001b[0;34m\u001b[0m\u001b[0;34m\u001b[0m\u001b[0m\n\u001b[0m\u001b[1;32m    567\u001b[0m             \u001b[0mout\u001b[0m \u001b[0;34m=\u001b[0m \u001b[0mX\u001b[0m\u001b[0;34m\u001b[0m\u001b[0;34m\u001b[0m\u001b[0m\n\u001b[1;32m    568\u001b[0m         \u001b[0;32melif\u001b[0m \u001b[0mno_val_X\u001b[0m \u001b[0;32mand\u001b[0m \u001b[0;32mnot\u001b[0m \u001b[0mno_val_y\u001b[0m\u001b[0;34m:\u001b[0m\u001b[0;34m\u001b[0m\u001b[0;34m\u001b[0m\u001b[0m\n",
      "\u001b[0;32m~/opt/anaconda3/lib/python3.9/site-packages/sklearn/utils/validation.py\u001b[0m in \u001b[0;36mcheck_array\u001b[0;34m(array, accept_sparse, accept_large_sparse, dtype, order, copy, force_all_finite, ensure_2d, allow_nd, ensure_min_samples, ensure_min_features, estimator)\u001b[0m\n\u001b[1;32m    744\u001b[0m                     \u001b[0marray\u001b[0m \u001b[0;34m=\u001b[0m \u001b[0marray\u001b[0m\u001b[0;34m.\u001b[0m\u001b[0mastype\u001b[0m\u001b[0;34m(\u001b[0m\u001b[0mdtype\u001b[0m\u001b[0;34m,\u001b[0m \u001b[0mcasting\u001b[0m\u001b[0;34m=\u001b[0m\u001b[0;34m\"unsafe\"\u001b[0m\u001b[0;34m,\u001b[0m \u001b[0mcopy\u001b[0m\u001b[0;34m=\u001b[0m\u001b[0;32mFalse\u001b[0m\u001b[0;34m)\u001b[0m\u001b[0;34m\u001b[0m\u001b[0;34m\u001b[0m\u001b[0m\n\u001b[1;32m    745\u001b[0m                 \u001b[0;32melse\u001b[0m\u001b[0;34m:\u001b[0m\u001b[0;34m\u001b[0m\u001b[0;34m\u001b[0m\u001b[0m\n\u001b[0;32m--> 746\u001b[0;31m                     \u001b[0marray\u001b[0m \u001b[0;34m=\u001b[0m \u001b[0mnp\u001b[0m\u001b[0;34m.\u001b[0m\u001b[0masarray\u001b[0m\u001b[0;34m(\u001b[0m\u001b[0marray\u001b[0m\u001b[0;34m,\u001b[0m \u001b[0morder\u001b[0m\u001b[0;34m=\u001b[0m\u001b[0morder\u001b[0m\u001b[0;34m,\u001b[0m \u001b[0mdtype\u001b[0m\u001b[0;34m=\u001b[0m\u001b[0mdtype\u001b[0m\u001b[0;34m)\u001b[0m\u001b[0;34m\u001b[0m\u001b[0;34m\u001b[0m\u001b[0m\n\u001b[0m\u001b[1;32m    747\u001b[0m             \u001b[0;32mexcept\u001b[0m \u001b[0mComplexWarning\u001b[0m \u001b[0;32mas\u001b[0m \u001b[0mcomplex_warning\u001b[0m\u001b[0;34m:\u001b[0m\u001b[0;34m\u001b[0m\u001b[0;34m\u001b[0m\u001b[0m\n\u001b[1;32m    748\u001b[0m                 raise ValueError(\n",
      "\u001b[0;32m~/opt/anaconda3/lib/python3.9/site-packages/pandas/core/generic.py\u001b[0m in \u001b[0;36m__array__\u001b[0;34m(self, dtype)\u001b[0m\n\u001b[1;32m   2062\u001b[0m \u001b[0;34m\u001b[0m\u001b[0m\n\u001b[1;32m   2063\u001b[0m     \u001b[0;32mdef\u001b[0m \u001b[0m__array__\u001b[0m\u001b[0;34m(\u001b[0m\u001b[0mself\u001b[0m\u001b[0;34m,\u001b[0m \u001b[0mdtype\u001b[0m\u001b[0;34m:\u001b[0m \u001b[0mnpt\u001b[0m\u001b[0;34m.\u001b[0m\u001b[0mDTypeLike\u001b[0m \u001b[0;34m|\u001b[0m \u001b[0;32mNone\u001b[0m \u001b[0;34m=\u001b[0m \u001b[0;32mNone\u001b[0m\u001b[0;34m)\u001b[0m \u001b[0;34m->\u001b[0m \u001b[0mnp\u001b[0m\u001b[0;34m.\u001b[0m\u001b[0mndarray\u001b[0m\u001b[0;34m:\u001b[0m\u001b[0;34m\u001b[0m\u001b[0;34m\u001b[0m\u001b[0m\n\u001b[0;32m-> 2064\u001b[0;31m         \u001b[0;32mreturn\u001b[0m \u001b[0mnp\u001b[0m\u001b[0;34m.\u001b[0m\u001b[0masarray\u001b[0m\u001b[0;34m(\u001b[0m\u001b[0mself\u001b[0m\u001b[0;34m.\u001b[0m\u001b[0m_values\u001b[0m\u001b[0;34m,\u001b[0m \u001b[0mdtype\u001b[0m\u001b[0;34m=\u001b[0m\u001b[0mdtype\u001b[0m\u001b[0;34m)\u001b[0m\u001b[0;34m\u001b[0m\u001b[0;34m\u001b[0m\u001b[0m\n\u001b[0m\u001b[1;32m   2065\u001b[0m \u001b[0;34m\u001b[0m\u001b[0m\n\u001b[1;32m   2066\u001b[0m     def __array_wrap__(\n",
      "\u001b[0;31mValueError\u001b[0m: could not convert string to float: 'Sun'"
     ]
    }
   ],
   "source": [
    "y_pred = svr.predict(X_test)"
   ]
  },
  {
   "cell_type": "code",
   "execution_count": null,
   "id": "5f86ba8f",
   "metadata": {},
   "outputs": [],
   "source": []
  }
 ],
 "metadata": {
  "kernelspec": {
   "display_name": "Python 3 (ipykernel)",
   "language": "python",
   "name": "python3"
  },
  "language_info": {
   "codemirror_mode": {
    "name": "ipython",
    "version": 3
   },
   "file_extension": ".py",
   "mimetype": "text/x-python",
   "name": "python",
   "nbconvert_exporter": "python",
   "pygments_lexer": "ipython3",
   "version": "3.9.13"
  }
 },
 "nbformat": 4,
 "nbformat_minor": 5
}
